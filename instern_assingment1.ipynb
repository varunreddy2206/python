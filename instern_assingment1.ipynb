{
 "cells": [
  {
   "cell_type": "code",
   "execution_count": null,
   "metadata": {},
   "outputs": [],
   "source": [
    "-\n",
    "\n",
    "### 1.Name four of the main data types in Python\n",
    "#    - int: Represents integers (e.g., `1`, `42`, `-7`).\n",
    "#    - float: Represents floating-point numbers (e.g., `3.14`, `-0.01`).\n",
    "#    - str: Represents strings of characters (e.g., `\"hello\"`, `\"Python\"`).\n",
    "#    - list: Represents ordered collections of elements (e.g., `[1, 2, 3]`, `[\"a\", \"b\", \"c\"]`).\n",
    "\n",
    "---\n",
    "\n",
    "### 2.Why are these data types known as Python’s core data types?\n",
    "#    These data types are known as Python’s core data types because:\n",
    "#    - They are built into the Python language.\n",
    "#    - They provide the foundation for more complex data structures.\n",
    "#    - They are optimized for performance and usability.\n",
    "#    - They are commonly used for a wide variety of tasks, such as arithmetic, text processing, and data organization.\n",
    "\n",
    "---\n",
    "\n",
    "### 3.What does immutable mean and what three types of Python core data types are considered immutable?\n",
    "#    - Immutable means that once an object is created, its value cannot be changed. Any operation that appears to modify it actually creates a new object.\n",
    "#    - The three core data types that are considered immutable in Python are:\n",
    "#      1. int\n",
    "#      2. float\n",
    "#      3. str\n",
    "\n",
    "---\n",
    "\n",
    "### 4. What does sequence mean and which three types of data fall into this category?\n",
    "#    - Sequence refers to an ordered collection of elements where each element is assigned a specific position (index). Elements in a sequence can be accessed by their index.\n",
    "#    - Three data types that fall into the sequence category are:\n",
    "    #  1. str (e.g., `\"Python\"`)\n",
    "#      2. list (e.g., `[1, 2, 3]`)\n",
    "#      3. tuple (e.g., `(10, 20, 30)`)\n",
    "\n",
    "# ---\n",
    "\n",
    "# ### 5.What does mapping mean and what kind of data type is based on mapping?\n",
    "#    - Mapping refers to a collection of key-value pairs where each key is unique and is used to access the corresponding value.\n",
    "#    - The dictionary (`dict`) data type is based on mapping in Python (e.g., `{\"name\": \"Alice\", \"age\": 25}`). \n",
    "\n",
    "---"
   ]
  }
 ],
 "metadata": {
  "language_info": {
   "name": "python"
  }
 },
 "nbformat": 4,
 "nbformat_minor": 2
}
